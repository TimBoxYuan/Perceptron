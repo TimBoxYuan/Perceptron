{
 "cells": [
  {
   "cell_type": "code",
   "execution_count": 1,
   "id": "3ad9c812",
   "metadata": {},
   "outputs": [],
   "source": [
    "import numpy as np\n",
    "from numpy import linalg as la\n",
    "import matplotlib.pyplot as plt"
   ]
  },
  {
   "cell_type": "code",
   "execution_count": 5,
   "id": "f90679b2",
   "metadata": {},
   "outputs": [],
   "source": [
    "class DataGen:\n",
    "    def __init__(self, dim = 10):\n",
    "        w = np.random.random(dim) - 0.5 # 1 by 10 array;random floats in [0.0, 1.0)\n",
    "        w = w / la.norm(w) # normalize the weight \n",
    "        self.dim = dim\n",
    "        self.w = w\n",
    "        \n",
    "    def gen_data(self, n_data = 10000):\n",
    "        x_data = 25 * (np.random.random([self.dim, n_data]) - 0.5) #dim by n_data matrix 10 by 10000\n",
    "        # every column is a data point\n",
    "        y_data = np.sign(self.w @ x_data) #10000 y to the x data points (-1,0,1)\n",
    "        return x_data, y_data \n",
    "    \n",
    "    #since np.sign may yield -1, 0 ,1 ==> need to filter out 0\n",
    "    def filter_data(self,x,y):\n",
    "        g_idx = (y * (self.w@x)) >= 1\n",
    "        return x[:,g_idx], y[g_idx]\n",
    "    \n",
    "    #combine gen_data and filter_data\n",
    "    def gen_marg_data (self, n_data = 10000):\n",
    "        x,y = self.gen_data(n_data = n_data)\n",
    "        xf, yf = self.filter_data(x,y)\n",
    "        return xf, yf\n",
    "    \n",
    "    def get_truth(self):\n",
    "        return self.w"
   ]
  },
  {
   "cell_type": "code",
   "execution_count": 55,
   "id": "92a7a25a",
   "metadata": {},
   "outputs": [
    {
     "data": {
      "text/plain": [
       "3.7416573867739413"
      ]
     },
     "execution_count": 55,
     "metadata": {},
     "output_type": "execute_result"
    }
   ],
   "source": [
    "w = [1,2,3]\n",
    "la.norm(w)"
   ]
  },
  {
   "cell_type": "code",
   "execution_count": 56,
   "id": "bbb95199",
   "metadata": {},
   "outputs": [
    {
     "data": {
      "text/plain": [
       "3.7416573867739413"
      ]
     },
     "execution_count": 56,
     "metadata": {},
     "output_type": "execute_result"
    }
   ],
   "source": []
  },
  {
   "cell_type": "code",
   "execution_count": 6,
   "id": "d49cb973",
   "metadata": {},
   "outputs": [],
   "source": [
    "d = DataGen()"
   ]
  },
  {
   "cell_type": "code",
   "execution_count": 8,
   "id": "430816fd",
   "metadata": {},
   "outputs": [],
   "source": [
    "x,y = d.gen_marg_data()"
   ]
  },
  {
   "cell_type": "code",
   "execution_count": 9,
   "id": "3a1077bf",
   "metadata": {},
   "outputs": [
    {
     "data": {
      "text/plain": [
       "(10, 8927)"
      ]
     },
     "execution_count": 9,
     "metadata": {},
     "output_type": "execute_result"
    }
   ],
   "source": [
    "x.shape"
   ]
  },
  {
   "cell_type": "code",
   "execution_count": 11,
   "id": "0fe6281a",
   "metadata": {},
   "outputs": [
    {
     "name": "stdout",
     "output_type": "stream",
     "text": [
      "w is [-0.19328209  0.03894629  0.44702374 -0.23871153  0.23715728  0.00342309\n",
      " -0.45430695  0.08585672 -0.22878486  0.25935173]\n",
      "normalized w  [-0.2334782   0.04704579  0.53998949 -0.28835542  0.28647794  0.00413497\n",
      " -0.54878736  0.103712   -0.27636434  0.31328808]\n"
     ]
    }
   ],
   "source": [
    "dim = 10\n",
    "w = np.random.random(dim) - 0.5\n",
    "print('w is', w)\n",
    "w = w/la.norm(w)\n",
    "print('normalized w ', w)"
   ]
  },
  {
   "cell_type": "code",
   "execution_count": 25,
   "id": "d272a86d",
   "metadata": {},
   "outputs": [
    {
     "name": "stdout",
     "output_type": "stream",
     "text": [
      "X shape is (10, 8927)\n",
      "b_idx [ True  True  True ... False  True  True]\n",
      "b_num is  5823\n"
     ]
    }
   ],
   "source": [
    "print('X shape is',x.shape)\n",
    "b_idx = (y * (w @x)) < 0 #True False vector\n",
    "print('b_idx', b_idx)\n",
    "b_num = sum(b_idx)\n",
    "print('b_num is ', b_num)"
   ]
  },
  {
   "cell_type": "code",
   "execution_count": 19,
   "id": "0b248b4e",
   "metadata": {},
   "outputs": [
    {
     "data": {
      "text/plain": [
       "-23.735658753953068"
      ]
     },
     "execution_count": 19,
     "metadata": {},
     "output_type": "execute_result"
    }
   ],
   "source": [
    "x_b = x[b_id]\n",
    "y_b = y[b_id]\n",
    "n = b_num\n",
    "\n",
    "j = 0"
   ]
  },
  {
   "cell_type": "code",
   "execution_count": 27,
   "id": "e4485a1f",
   "metadata": {},
   "outputs": [
    {
     "data": {
      "text/plain": [
       "2"
      ]
     },
     "execution_count": 27,
     "metadata": {},
     "output_type": "execute_result"
    }
   ],
   "source": [
    "np.random.randint(3)"
   ]
  },
  {
   "cell_type": "code",
   "execution_count": 41,
   "id": "75e1d7cf",
   "metadata": {},
   "outputs": [],
   "source": [
    "class Perceptron:\n",
    "    def __init__(self, dim = 10):\n",
    "        w = np.random.random(dim) - 0.5\n",
    "        w/la.norm(w)\n",
    "        self.w = w\n",
    "        self.dim = dim\n",
    "        \n",
    "    def get_wrongs(self, x_data, y_data):\n",
    "        b_idx = (y_data * (self.w@x_data)) < 0\n",
    "        b_num = sum(b_idx)\n",
    "        return b_num, x_data[:, b_idx], y_data[b_idx]\n",
    "    \n",
    "    def fit_w(self, x_data, y_data, printing = False):\n",
    "        n, xb, yb = self.get_wrongs(x_data, y_data)\n",
    "        \n",
    "        j = 0\n",
    "        while n > 0:\n",
    "            idx = np.random.randint(n)\n",
    "            w = self.w + yb[idx] * xb[:,idx]\n",
    "            self.w = w\n",
    "            n, xb, yb = self.get_wrongs(x_data, y_data)\n",
    "            \n",
    "            if printing:\n",
    "                if j%25 == 0:\n",
    "                    print(\"iteration: %d, and wrongs %d\" %(j,n))\n",
    "            bound = (la.norm(self.w) * la.norm(x_data,axis = 0).max())**2\n",
    "            j = j + 1\n",
    "            \n",
    "        return j, bound\n",
    "    \n",
    "    def eval_w(self, x_test, y_test):\n",
    "        n, _, _ = self.get_wrongs(x_test,y_test)\n",
    "        return 1.0 - float(n/x_test.shape[1])\n",
    "            "
   ]
  },
  {
   "cell_type": "code",
   "execution_count": 42,
   "id": "7ab451ac",
   "metadata": {},
   "outputs": [],
   "source": [
    "p = Perceptron()"
   ]
  },
  {
   "cell_type": "code",
   "execution_count": 43,
   "id": "2b998a08",
   "metadata": {},
   "outputs": [
    {
     "name": "stdout",
     "output_type": "stream",
     "text": [
      "iteration: 0, and wrongs 2785\n",
      "iteration: 25, and wrongs 321\n",
      "iteration: 50, and wrongs 46\n",
      "iteration: 75, and wrongs 53\n",
      "iteration: 100, and wrongs 28\n"
     ]
    },
    {
     "data": {
      "text/plain": [
       "(112, 57662310.04941396)"
      ]
     },
     "execution_count": 43,
     "metadata": {},
     "output_type": "execute_result"
    }
   ],
   "source": [
    "p.fit_w(x,y,printing = True)"
   ]
  },
  {
   "cell_type": "code",
   "execution_count": 44,
   "id": "471ba06e",
   "metadata": {},
   "outputs": [],
   "source": [
    "def plot_2D(n = 1000,show = True):\n",
    "    plt.clf()\n",
    "    dg2 = DataGen(dim = 2)\n",
    "    x,y = dg2.gen_data(n_data = n)\n",
    "    xf,yf = dg2.filter_data(x,y)\n",
    "    p_idx = y > 0 \n",
    "    p_idx_fil = yf > 0\n",
    "    plt.plot(x[0,p_idx],x[1,p_idx],'.',label = 'y>0')\n",
    "    plt.plot(x[0,~p_idx],x[1,~p_idx],'.',label = 'y<0')\n",
    "    plt.plot(xf[0,p_idx_fil],xf[1,p_idx_fil],'.',label = 'y>0 margin')\n",
    "    plt.plot(xf[0,~p_idx_fil],xf[1,~p_idx_fil],'.',label = 'y<0 margin')\n",
    "    plt.legend()\n",
    "    if show:\n",
    "        plt.show()"
   ]
  },
  {
   "cell_type": "code",
   "execution_count": 45,
   "id": "fc1523cd",
   "metadata": {},
   "outputs": [
    {
     "data": {
      "image/png": "[encoded data removed]",
      "text/plain": [
       "<Figure size 432x288 with 1 Axes>"
      ]
     },
     "metadata": {
      "needs_background": "light"
     },
     "output_type": "display_data"
    }
   ],
   "source": [
    "plot_2D(n = 1000,show = True)"
   ]
  },
  {
   "cell_type": "code",
   "execution_count": 50,
   "id": "87170494",
   "metadata": {},
   "outputs": [],
   "source": [
    "def one_run(n = 10000, dim =10):\n",
    "    dg = DataGen(dim = dim)\n",
    "    x,y = dg.gen_marg_data(n_data = n)\n",
    "    x_test,y_test = dg.gen_data(n_data = n)\n",
    "    perceptron = Perceptron(dim = dim)\n",
    "    pre_tr_acc = perceptron.eval_w(x_test,y_test)\n",
    "    perceptron.fit_w(x,y)\n",
    "    post_tr_acc = perceptron.eval_w(x_test,y_test)\n",
    "    print(f\"pre and post train accuracies: {pre_tr_acc:.3f} and {post_tr_acc:.3f}\")"
   ]
  },
  {
   "cell_type": "code",
   "execution_count": 52,
   "id": "d61780f8",
   "metadata": {},
   "outputs": [
    {
     "name": "stdout",
     "output_type": "stream",
     "text": [
      "pre and post train accuracies: 0.498 and 0.988\n"
     ]
    }
   ],
   "source": [
    "one_run()"
   ]
  },
  {
   "cell_type": "code",
   "execution_count": 53,
   "id": "c26f9ae4",
   "metadata": {},
   "outputs": [],
   "source": [
    "def many_runs(n =50000, dims =np.linspace(2,30,15).astype(int)):\n",
    "    data = np.zeros([4,dims.shape[0]])\n",
    "    j = 0 \n",
    "    for dim in dims:\n",
    "        dg = DataGen(dim = dim)\n",
    "        x,y = dg.gen_marg_data(n_data = n)\n",
    "        assert x.shape[1]>0, \"not enough data!\"\n",
    "        xt,yt = dg.gen_data(n_data = n)\n",
    "        perceptron = Perceptron(dim = dim)\n",
    "        n_steps,upper_bound = perceptron.fit_w(x,y,printing = False) \n",
    "        accuracy = perceptron.eval_w(xt,yt)\n",
    "        data[:,j] = np.array([dim,n_steps,upper_bound,accuracy])\n",
    "        j+=1\n",
    "    plt.figure(1)\n",
    "    plt.plot(data[0,:],data[3,:],'-.')\n",
    "    plt.xlabel('dimension')\n",
    "    plt.ylabel('accuracy')\n",
    "    plt.figure(2)\n",
    "    plt.plot(data[0,:],data[1,:],'-.',label = 'steps to convergence')\n",
    "    plt.legend()\n",
    "    plt.xlabel('dimension')\n",
    "    plt.ylabel('number of steps')\n",
    "    plt.show()"
   ]
  },
  {
   "cell_type": "code",
   "execution_count": 54,
   "id": "4248eaf1",
   "metadata": {},
   "outputs": [
    {
     "data": {
      "image/png": "[encoded data removed]",
      "text/plain": [
       "<Figure size 432x288 with 1 Axes>"
      ]
     },
     "metadata": {
      "needs_background": "light"
     },
     "output_type": "display_data"
    },
    {
     "data": {
      "image/png": "[encoded data removed]",
      "text/plain": [
       "<Figure size 432x288 with 1 Axes>"
      ]
     },
     "metadata": {
      "needs_background": "light"
     },
     "output_type": "display_data"
    }
   ],
   "source": [
    "many_runs()"
   ]
  },
  {
   "cell_type": "code",
   "execution_count": null,
   "id": "0fe72a92",
   "metadata": {},
   "outputs": [],
   "source": []
  }
 ],
 "metadata": {
  "kernelspec": {
   "display_name": "Python 3",
   "language": "python",
   "name": "python3"
  },
  "language_info": {
   "codemirror_mode": {
    "name": "ipython",
    "version": 3
   },
   "file_extension": ".py",
   "mimetype": "text/x-python",
   "name": "python",
   "nbconvert_exporter": "python",
   "pygments_lexer": "ipython3",
   "version": "3.7.11"
  }
 },
 "nbformat": 4,
 "nbformat_minor": 5
}
